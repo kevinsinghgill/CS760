{
 "cells": [
  {
   "cell_type": "markdown",
   "metadata": {},
   "source": [
    "The following notebook is for problem 2 of Homework 4."
   ]
  },
  {
   "cell_type": "code",
   "execution_count": 4,
   "metadata": {},
   "outputs": [],
   "source": [
    "import matplotlib.pyplot as plt\n",
    "from pathlib import Path\n",
    "import pandas as pd\n",
    "import numpy as np\n",
    "import os"
   ]
  },
  {
   "cell_type": "code",
   "execution_count": 46,
   "metadata": {},
   "outputs": [],
   "source": [
    "np.set_printoptions(suppress=True)"
   ]
  },
  {
   "cell_type": "code",
   "execution_count": 52,
   "metadata": {},
   "outputs": [
    {
     "data": {
      "text/plain": [
       "{'a': 910,\n",
       " 'b': 168,\n",
       " 'c': 325,\n",
       " 'd': 332,\n",
       " 'e': 1594,\n",
       " 'f': 286,\n",
       " 'g': 264,\n",
       " 'h': 714,\n",
       " 'i': 838,\n",
       " 'j': 21,\n",
       " 'k': 56,\n",
       " 'l': 438,\n",
       " 'm': 310,\n",
       " 'n': 876,\n",
       " 'o': 975,\n",
       " 'p': 253,\n",
       " 'q': 8,\n",
       " 'r': 814,\n",
       " 's': 1001,\n",
       " 't': 1212,\n",
       " 'u': 403,\n",
       " 'v': 140,\n",
       " 'w': 234,\n",
       " 'x': 17,\n",
       " 'y': 209,\n",
       " 'z': 9,\n",
       " ' ': 2712}"
      ]
     },
     "execution_count": 52,
     "metadata": {},
     "output_type": "execute_result"
    }
   ],
   "source": [
    "files_e = [f for f in os.listdir('languageID/train') if f.startswith(\"e\")]\n",
    "bag_count_e = {'a':0, 'b':0, 'c':0, 'd':0, 'e':0, 'f':0, 'g':0, 'h':0, 'i':0, 'j':0, 'k':0, 'l':0, 'm':0, 'n':0, 'o':0, 'p':0, 'q':0, 'r':0, 's':0, 't':0, 'u':0, 'v':0, 'w':0, 'x':0, 'y':0, 'z':0, ' ':0}\n",
    "\n",
    "for idx, filename in enumerate(files_e):\n",
    "    with open('languageID/train/' + filename) as f:\n",
    "        for character in f.read():\n",
    "            if character not in bag_count_e:\n",
    "                continue\n",
    "            else:\n",
    "                bag_count_e[character] += 1\n",
    "        \n",
    "bag_count_e"
   ]
  },
  {
   "cell_type": "markdown",
   "metadata": {},
   "source": [
    "2. Estimating class conditional probabilities for English"
   ]
  },
  {
   "cell_type": "code",
   "execution_count": 57,
   "metadata": {},
   "outputs": [
    {
     "data": {
      "text/plain": [
       "[0.0601685114819098,\n",
       " 0.011134974392863043,\n",
       " 0.021509995043779945,\n",
       " 0.021972575582355856,\n",
       " 0.1053692383941847,\n",
       " 0.018932760614571286,\n",
       " 0.017478936064761277,\n",
       " 0.047216256401784236,\n",
       " 0.055410540227986124,\n",
       " 0.001420783082768875,\n",
       " 0.0037336857756484387,\n",
       " 0.028977366595076822,\n",
       " 0.020518751032545846,\n",
       " 0.057921691723112505,\n",
       " 0.06446390219725756,\n",
       " 0.01675202378985627,\n",
       " 0.0005617049396993227,\n",
       " 0.053824549810011564,\n",
       " 0.06618205848339666,\n",
       " 0.08012555757475633,\n",
       " 0.026664463902197257,\n",
       " 0.009284652238559392,\n",
       " 0.015496448042293078,\n",
       " 0.001156451346439782,\n",
       " 0.013844374690236246,\n",
       " 0.0006277878737815959,\n",
       " 0.1792499586981662]"
      ]
     },
     "execution_count": 57,
     "metadata": {},
     "output_type": "execute_result"
    }
   ],
   "source": [
    "total_char = sum(bag_count_e[key] for key in bag_count_e)\n",
    "alpha = 0.5\n",
    "K_s = 27\n",
    "class_conditional_prob_e = []\n",
    "for key in bag_count_e:\n",
    "    prob = (bag_count_e[key] + alpha)/(total_char + K_s*alpha)\n",
    "    class_conditional_prob_e.append(prob)\n",
    "# class_conditional_prob_e = np.round(class_conditional_prob_e, 4)\n",
    "class_conditional_prob_e"
   ]
  },
  {
   "cell_type": "markdown",
   "metadata": {},
   "source": [
    "3. Estimating class conditional probabilities for Japanese and Spanish"
   ]
  },
  {
   "cell_type": "code",
   "execution_count": 40,
   "metadata": {},
   "outputs": [
    {
     "data": {
      "text/plain": [
       "{'a': 1885,\n",
       " 'b': 155,\n",
       " 'c': 78,\n",
       " 'd': 246,\n",
       " 'e': 861,\n",
       " 'f': 55,\n",
       " 'g': 200,\n",
       " 'h': 454,\n",
       " 'i': 1388,\n",
       " 'j': 33,\n",
       " 'k': 821,\n",
       " 'l': 20,\n",
       " 'm': 569,\n",
       " 'n': 811,\n",
       " 'o': 1304,\n",
       " 'p': 12,\n",
       " 'q': 1,\n",
       " 'r': 612,\n",
       " 's': 603,\n",
       " 't': 815,\n",
       " 'u': 1010,\n",
       " 'v': 3,\n",
       " 'w': 282,\n",
       " 'x': 0,\n",
       " 'y': 202,\n",
       " 'z': 110,\n",
       " ' ': 1766}"
      ]
     },
     "execution_count": 40,
     "metadata": {},
     "output_type": "execute_result"
    }
   ],
   "source": [
    "files_j = [f for f in os.listdir('languageID/train') if f.startswith(\"j\")]\n",
    "bag_count_j = {'a':0, 'b':0, 'c':0, 'd':0, 'e':0, 'f':0, 'g':0, 'h':0, 'i':0, 'j':0, 'k':0, 'l':0, 'm':0, 'n':0, 'o':0, 'p':0, 'q':0, 'r':0, 's':0, 't':0, 'u':0, 'v':0, 'w':0, 'x':0, 'y':0, 'z':0, ' ':0}\n",
    "\n",
    "for idx, filename in enumerate(files_j):\n",
    "    with open('languageID/train/' + filename) as f:\n",
    "        for character in f.read():\n",
    "            if character not in bag_count_j:\n",
    "                continue\n",
    "            else:\n",
    "                bag_count_j[character] += 1\n",
    "        \n",
    "bag_count_j"
   ]
  },
  {
   "cell_type": "code",
   "execution_count": 58,
   "metadata": {},
   "outputs": [
    {
     "data": {
      "text/plain": [
       "[0.1317656102589189,\n",
       " 0.010866906600510151,\n",
       " 0.005485866033054963,\n",
       " 0.01722631818022992,\n",
       " 0.06020475907613823,\n",
       " 0.003878542227191726,\n",
       " 0.014011670568503443,\n",
       " 0.03176211607673224,\n",
       " 0.09703343932352633,\n",
       " 0.0023411020650616725,\n",
       " 0.05740941332681086,\n",
       " 0.001432614696530277,\n",
       " 0.03979873510604843,\n",
       " 0.05671057688947902,\n",
       " 0.09116321324993885,\n",
       " 0.0008735455466648031,\n",
       " 0.00010482546559977637,\n",
       " 0.04280373178657535,\n",
       " 0.0421747789929767,\n",
       " 0.056990111464411755,\n",
       " 0.07061742199238269,\n",
       " 0.0002445927530661449,\n",
       " 0.01974212935462455,\n",
       " 3.4941821866592126e-05,\n",
       " 0.01415143785596981,\n",
       " 0.00772214263251686,\n",
       " 0.12344945665466997]"
      ]
     },
     "execution_count": 58,
     "metadata": {},
     "output_type": "execute_result"
    }
   ],
   "source": [
    "total_char = sum(bag_count_j[key] for key in bag_count_j)\n",
    "alpha = 0.5\n",
    "K_s = 27\n",
    "class_conditional_prob_j = []\n",
    "for key in bag_count_j:\n",
    "    prob = (bag_count_j[key] + alpha)/(total_char + K_s*alpha)\n",
    "    class_conditional_prob_j.append(prob)\n",
    "# class_conditional_prob_j = np.round(class_conditional_prob_j, 5)\n",
    "class_conditional_prob_j"
   ]
  },
  {
   "cell_type": "code",
   "execution_count": 48,
   "metadata": {},
   "outputs": [
    {
     "data": {
      "text/plain": [
       "{'a': 1695,\n",
       " 'b': 133,\n",
       " 'c': 608,\n",
       " 'd': 644,\n",
       " 'e': 1845,\n",
       " 'f': 139,\n",
       " 'g': 116,\n",
       " 'h': 73,\n",
       " 'i': 808,\n",
       " 'j': 107,\n",
       " 'k': 4,\n",
       " 'l': 858,\n",
       " 'm': 418,\n",
       " 'n': 878,\n",
       " 'o': 1175,\n",
       " 'p': 393,\n",
       " 'q': 124,\n",
       " 'r': 961,\n",
       " 's': 1066,\n",
       " 't': 577,\n",
       " 'u': 546,\n",
       " 'v': 95,\n",
       " 'w': 1,\n",
       " 'x': 40,\n",
       " 'y': 127,\n",
       " 'z': 43,\n",
       " ' ': 2728}"
      ]
     },
     "execution_count": 48,
     "metadata": {},
     "output_type": "execute_result"
    }
   ],
   "source": [
    "files_s = [f for f in os.listdir('languageID/train') if f.startswith(\"s\")]\n",
    "bag_count_s = {'a':0, 'b':0, 'c':0, 'd':0, 'e':0, 'f':0, 'g':0, 'h':0, 'i':0, 'j':0, 'k':0, 'l':0, 'm':0, 'n':0, 'o':0, 'p':0, 'q':0, 'r':0, 's':0, 't':0, 'u':0, 'v':0, 'w':0, 'x':0, 'y':0, 'z':0, ' ':0}\n",
    "\n",
    "for idx, filename in enumerate(files_s):\n",
    "    with open('languageID/train/' + filename) as f:\n",
    "        for character in f.read():\n",
    "            if character not in bag_count_s:\n",
    "                continue\n",
    "            else:\n",
    "                bag_count_s[character] += 1\n",
    "        \n",
    "bag_count_s"
   ]
  },
  {
   "cell_type": "code",
   "execution_count": 59,
   "metadata": {},
   "outputs": [
    {
     "data": {
      "text/plain": [
       "[0.10456045141993771,\n",
       " 0.008232863618143134,\n",
       " 0.03752582405722919,\n",
       " 0.039745922111559924,\n",
       " 0.1138108599796491,\n",
       " 0.00860287996053159,\n",
       " 0.0071844839813758445,\n",
       " 0.0045327001942585795,\n",
       " 0.049859702136844375,\n",
       " 0.006629459467793161,\n",
       " 0.0002775122567913416,\n",
       " 0.052943171656748174,\n",
       " 0.02580863988159477,\n",
       " 0.054176559464709693,\n",
       " 0.07249236841293824,\n",
       " 0.02426690512164287,\n",
       " 0.007677839104560451,\n",
       " 0.05929511886774999,\n",
       " 0.06577040485954797,\n",
       " 0.03561407295488884,\n",
       " 0.03370232185254849,\n",
       " 0.00588942678301625,\n",
       " 9.250408559711388e-05,\n",
       " 0.0024976103111220747,\n",
       " 0.007862847275754679,\n",
       " 0.0026826184823163022,\n",
       " 0.16826493170115014]"
      ]
     },
     "execution_count": 59,
     "metadata": {},
     "output_type": "execute_result"
    }
   ],
   "source": [
    "total_char = sum(bag_count_s[key] for key in bag_count_s)\n",
    "alpha = 0.5\n",
    "K_s = 27\n",
    "class_conditional_prob_s = []\n",
    "for key in bag_count_s:\n",
    "    prob = (bag_count_s[key] + alpha)/(total_char + K_s*alpha)\n",
    "    class_conditional_prob_s.append(prob)\n",
    "# class_conditional_prob_s = np.round(class_conditional_prob_s, 5)\n",
    "class_conditional_prob_s"
   ]
  },
  {
   "cell_type": "markdown",
   "metadata": {},
   "source": [
    "4. Treat e10.txt as a test document $x$, represent $x$ as a bag-of-words count vector"
   ]
  },
  {
   "cell_type": "code",
   "execution_count": 56,
   "metadata": {},
   "outputs": [
    {
     "data": {
      "text/plain": [
       "[164,\n",
       " 32,\n",
       " 53,\n",
       " 57,\n",
       " 311,\n",
       " 55,\n",
       " 51,\n",
       " 140,\n",
       " 140,\n",
       " 3,\n",
       " 6,\n",
       " 85,\n",
       " 64,\n",
       " 139,\n",
       " 182,\n",
       " 53,\n",
       " 3,\n",
       " 141,\n",
       " 186,\n",
       " 225,\n",
       " 65,\n",
       " 31,\n",
       " 47,\n",
       " 4,\n",
       " 38,\n",
       " 2,\n",
       " 498]"
      ]
     },
     "execution_count": 56,
     "metadata": {},
     "output_type": "execute_result"
    }
   ],
   "source": [
    "bag_count_e10 = {'a':0, 'b':0, 'c':0, 'd':0, 'e':0, 'f':0, 'g':0, 'h':0, 'i':0, 'j':0, 'k':0, 'l':0, 'm':0, 'n':0, 'o':0, 'p':0, 'q':0, 'r':0, 's':0, 't':0, 'u':0, 'v':0, 'w':0, 'x':0, 'y':0, 'z':0, ' ':0}\n",
    "with open('languageID/test/e10.txt') as f:\n",
    "    for character in f.read():\n",
    "        if character not in bag_count_e10:\n",
    "            continue\n",
    "        else:\n",
    "            bag_count_e10[character] += 1\n",
    "e10_count = [bag_count_e10[key] for key in bag_count_e10]\n",
    "e10_count"
   ]
  },
  {
   "cell_type": "markdown",
   "metadata": {},
   "source": [
    "5. compute $\\hat p(x \\mid y)$ for $y = e, j, s$"
   ]
  },
  {
   "cell_type": "code",
   "execution_count": 60,
   "metadata": {},
   "outputs": [
    {
     "data": {
      "text/plain": [
       "-7841.865447060635"
      ]
     },
     "execution_count": 60,
     "metadata": {},
     "output_type": "execute_result"
    }
   ],
   "source": [
    "log_prob = 0\n",
    "for idx, cond_prob in enumerate(class_conditional_prob_e):\n",
    "    log_prob += e10_count[idx]*np.log(cond_prob)\n",
    "log_prob"
   ]
  },
  {
   "cell_type": "code",
   "execution_count": 61,
   "metadata": {},
   "outputs": [
    {
     "data": {
      "text/plain": [
       "-8771.433079075032"
      ]
     },
     "execution_count": 61,
     "metadata": {},
     "output_type": "execute_result"
    }
   ],
   "source": [
    "log_prob = 0\n",
    "for idx, cond_prob in enumerate(class_conditional_prob_j):\n",
    "    log_prob += e10_count[idx]*np.log(cond_prob)\n",
    "log_prob"
   ]
  },
  {
   "cell_type": "code",
   "execution_count": 62,
   "metadata": {},
   "outputs": [
    {
     "data": {
      "text/plain": [
       "-8467.282044010557"
      ]
     },
     "execution_count": 62,
     "metadata": {},
     "output_type": "execute_result"
    }
   ],
   "source": [
    "log_prob = 0\n",
    "for idx, cond_prob in enumerate(class_conditional_prob_s):\n",
    "    log_prob += e10_count[idx]*np.log(cond_prob)\n",
    "log_prob"
   ]
  },
  {
   "cell_type": "markdown",
   "metadata": {},
   "source": [
    "6. see LaTeX doc"
   ]
  },
  {
   "cell_type": "markdown",
   "metadata": {},
   "source": [
    "7. evaluate performance on test set"
   ]
  },
  {
   "cell_type": "code",
   "execution_count": 70,
   "metadata": {},
   "outputs": [],
   "source": [
    "test_files = [f for f in os.listdir('languageID/test')]\n",
    "preds = []\n",
    "labels = []\n",
    "for idx, filename in enumerate(test_files):\n",
    "    bag_count = {'a':0, 'b':0, 'c':0, 'd':0, 'e':0, 'f':0, 'g':0, 'h':0, 'i':0, 'j':0, 'k':0, 'l':0, 'm':0, 'n':0, 'o':0, 'p':0, 'q':0, 'r':0, 's':0, 't':0, 'u':0, 'v':0, 'w':0, 'x':0, 'y':0, 'z':0, ' ':0}\n",
    "    with open('languageID/test/' + filename) as f:\n",
    "        for character in f.read():\n",
    "            if character not in bag_count:\n",
    "                continue\n",
    "            else:\n",
    "                bag_count[character] += 1\n",
    "    counts = [bag_count[key] for key in bag_count]\n",
    "\n",
    "    log_probs = []\n",
    "    log_prob = 0\n",
    "    for idx, cond_prob in enumerate(class_conditional_prob_e):\n",
    "        log_prob += counts[idx]*np.log(cond_prob)\n",
    "    log_probs.append(log_prob)\n",
    "    log_prob = 0\n",
    "    for idx, cond_prob in enumerate(class_conditional_prob_j):\n",
    "        log_prob += counts[idx]*np.log(cond_prob)\n",
    "    log_probs.append(log_prob)\n",
    "    log_prob = 0\n",
    "    for idx, cond_prob in enumerate(class_conditional_prob_s):\n",
    "        log_prob += counts[idx]*np.log(cond_prob)\n",
    "    log_probs.append(log_prob)\n",
    "\n",
    "    pred = np.argmax(log_probs)\n",
    "    if pred == 0:\n",
    "        pred = 'e'\n",
    "    elif pred == 1:\n",
    "        pred = 'j'\n",
    "    elif pred == 2:\n",
    "        pred = 's'\n",
    "        \n",
    "    preds.append(pred)\n",
    "    labels.append(filename[0])"
   ]
  },
  {
   "cell_type": "code",
   "execution_count": 69,
   "metadata": {},
   "outputs": [
    {
     "data": {
      "text/plain": [
       "array([[10,  0,  0],\n",
       "       [ 0, 10,  0],\n",
       "       [ 0,  0, 10]])"
      ]
     },
     "execution_count": 69,
     "metadata": {},
     "output_type": "execute_result"
    }
   ],
   "source": [
    "from sklearn.metrics import confusion_matrix\n",
    "\n",
    "cm = confusion_matrix(labels, preds)\n",
    "cm"
   ]
  },
  {
   "cell_type": "markdown",
   "metadata": {},
   "source": [
    "8. shuffle test document"
   ]
  },
  {
   "cell_type": "code",
   "execution_count": 86,
   "metadata": {},
   "outputs": [
    {
     "name": "stdout",
     "output_type": "stream",
     "text": [
      "brdsr \n",
      " avefhs  r\n",
      "ewhoibnoddierrhabioous  eprntnel \n",
      "aee g atweessar tafsrt emieeelteu iis t u\n",
      "ewsltvcuattrlladgfmait nprronnttykctbeinae rdrfovsimr voifeyuh  uidfrwhnto trc\n",
      "n cdyw  na i\n",
      "sy niipc t messrdleeuaathsechemtlvsearsmo\n",
      "ieuoee un t lonoehiuys dc   c nguawoustrfne  satcto snhiwoes nonotirm a  cr hn aoeaiie\n",
      "hrtet ts hwntinpiccti ceh nm fiakrpneae amo e ih ssiow staosien aroiiamfpfmtiatsmnaotinffdngyy iibittuenvaooapeuatstoesteumudyiororirateassme  wl\n",
      "si paoe dal\n",
      "epv  am trwr n etei   nt eob es vgiies euaseop geteegsb iyh a bh hasnoa mtoui o e yld   pate nt\n",
      "eecaeav mc\n",
      "rstk tadrtodimt  \n",
      "ceeio rg at hehr  itee byo no n p  \n",
      " oaphinpeeeu oaybt oi yvh oslt cney gva noh ilihthrdu appy   iieraeagik osohhdhhre moooqrtwert  \n",
      "lsstdh  nfog  t vgl iedooiycw t ff tetto mh cuioso  i re oafhsshmaacriwsthgaauo muihuttinioo \n",
      "rme b dming  espaaoeeofan   sgnyentsramp  strlhsufteosamnt mntoruei d astsl elntakgwrhevb rinttiginewnlesagoaeitsslehwada and  odstneewftiaoe rint  rn ntnol ssstar ohgrnttb tmetrihski ntmsevhatel  bga marosetntwtath selpemfiw\n",
      " a tanlmn ronntttlw wrdarr euatneiiseroereeonh aiohdc obce ttdhrttnr ls d nrlteeagtf nierintltltsma  eaohtnhinodtolso lt ofteceetodssgonmtizd tstgm ups ets etre rvdu e  batemimigumbu   iin h yst fhsse s  ere  \n",
      "teol w rsteryinoo  acaah p  e fs      nhafetndsmofi\n",
      "hailhheatntsat  ptmeacrrdmstocnnrs tnech kqcitro amhisd eo c sl t \n",
      "petetseyamhs     wnrs niefsafuu  ahgtghsm  r  ah fueehhotoie bdlmfp rnpt fomsend o t toairh\n",
      "atmtur petni iro  eiti i  u g derdmyu yehitrw ouemn  cdatnlet\n",
      "thranrg eh  eltall ncrwloeroedtnaiwwcccshkb  evtiweoa  oest   loneasrleii h eaadgo ae  teiesnstyaa tep\n"
     ]
    }
   ],
   "source": [
    "import random\n",
    "with open('languageID/test/e15.txt') as f:\n",
    "    l = list(f.read())\n",
    "    random.shuffle(l)\n",
    "    e15_shuffle = \"\".join(l)\n",
    "    print(e15_shuffle)"
   ]
  },
  {
   "cell_type": "code",
   "execution_count": 89,
   "metadata": {},
   "outputs": [
    {
     "name": "stdout",
     "output_type": "stream",
     "text": [
      "prediction:  e label: e\n"
     ]
    }
   ],
   "source": [
    "bag_count = {'a':0, 'b':0, 'c':0, 'd':0, 'e':0, 'f':0, 'g':0, 'h':0, 'i':0, 'j':0, 'k':0, 'l':0, 'm':0, 'n':0, 'o':0, 'p':0, 'q':0, 'r':0, 's':0, 't':0, 'u':0, 'v':0, 'w':0, 'x':0, 'y':0, 'z':0, ' ':0}\n",
    "for character in e15_shuffle:\n",
    "    if character not in bag_count:\n",
    "        continue\n",
    "    else:\n",
    "        bag_count[character] += 1\n",
    "counts = [bag_count[key] for key in bag_count]\n",
    "\n",
    "log_probs = []\n",
    "log_prob = 0\n",
    "for idx, cond_prob in enumerate(class_conditional_prob_e):\n",
    "    log_prob += counts[idx]*np.log(cond_prob)\n",
    "log_probs.append(log_prob)\n",
    "log_prob = 0\n",
    "for idx, cond_prob in enumerate(class_conditional_prob_j):\n",
    "    log_prob += counts[idx]*np.log(cond_prob)\n",
    "log_probs.append(log_prob)\n",
    "log_prob = 0\n",
    "for idx, cond_prob in enumerate(class_conditional_prob_s):\n",
    "    log_prob += counts[idx]*np.log(cond_prob)\n",
    "log_probs.append(log_prob)\n",
    "\n",
    "pred = np.argmax(log_probs)\n",
    "if pred == 0:\n",
    "    pred = 'e'\n",
    "elif pred == 1:\n",
    "    pred = 'j'\n",
    "elif pred == 2:\n",
    "    pred = 's'\n",
    "    \n",
    "print('prediction: ', pred, 'label: e')"
   ]
  },
  {
   "cell_type": "code",
   "execution_count": null,
   "metadata": {},
   "outputs": [],
   "source": []
  }
 ],
 "metadata": {
  "kernelspec": {
   "display_name": "Python 3.8.9 64-bit",
   "language": "python",
   "name": "python3"
  },
  "language_info": {
   "codemirror_mode": {
    "name": "ipython",
    "version": 3
   },
   "file_extension": ".py",
   "mimetype": "text/x-python",
   "name": "python",
   "nbconvert_exporter": "python",
   "pygments_lexer": "ipython3",
   "version": "3.8.9"
  },
  "orig_nbformat": 4,
  "vscode": {
   "interpreter": {
    "hash": "31f2aee4e71d21fbe5cf8b01ff0e069b9275f58929596ceb00d14d90e3e16cd6"
   }
  }
 },
 "nbformat": 4,
 "nbformat_minor": 2
}
