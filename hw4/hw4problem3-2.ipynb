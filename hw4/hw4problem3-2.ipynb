{
 "cells": [
  {
   "cell_type": "code",
   "execution_count": 2,
   "metadata": {},
   "outputs": [
    {
     "name": "stderr",
     "output_type": "stream",
     "text": [
      "2023-03-19 21:31:02.456804: I tensorflow/core/platform/cpu_feature_guard.cc:193] This TensorFlow binary is optimized with oneAPI Deep Neural Network Library (oneDNN) to use the following CPU instructions in performance-critical operations:  AVX2 FMA\n",
      "To enable them in other operations, rebuild TensorFlow with the appropriate compiler flags.\n"
     ]
    }
   ],
   "source": [
    "import numpy as np\n",
    "from tensorflow.keras.datasets import mnist\n",
    "import matplotlib.pyplot as plt"
   ]
  },
  {
   "cell_type": "code",
   "execution_count": 3,
   "metadata": {},
   "outputs": [],
   "source": [
    "# Define the sigmoid activation function\n",
    "def sigmoid(z):\n",
    "    return 1 / (1 + np.exp(-z))\n",
    "\n",
    "# Define the derivative of the sigmoid activation function\n",
    "def sigmoid_prime(z):\n",
    "    return sigmoid(z) * (1 - sigmoid(z))\n",
    "\n",
    "# Define the softmax activation function\n",
    "def softmax(z):\n",
    "    return np.exp(z) / np.sum(np.exp(z), axis=0)\n",
    "\n",
    "# Define the cross-entropy loss function\n",
    "def cross_entropy_loss(y, y_hat):\n",
    "    return -np.sum(y * np.log(y_hat))\n",
    "\n",
    "# Define the derivative of the cross-entropy loss function\n",
    "def cross_entropy_loss_prime(y, y_hat):\n",
    "    return y_hat - y\n",
    "\n",
    "def compute_accuracy(y_true, y_pred):\n",
    "    y_true = np.argmax(y_true, axis=0)\n",
    "    y_pred = np.argmax(y_pred, axis=0)\n",
    "    accuracy = np.mean(y_true == y_pred)\n",
    "    return accuracy\n",
    "\n",
    "# Define the forward propagation function\n",
    "def forward_propagation(x, w1, w2, w3):\n",
    "    z1 = np.dot(w1, x)\n",
    "    a1 = sigmoid(z1)\n",
    "    z2 = np.dot(w2, a1)\n",
    "    a2 = sigmoid(z2)\n",
    "    z3 = np.dot(w3, a2)\n",
    "    a3 = softmax(z3)\n",
    "    return z1, a1, z2, a2, z3, a3"
   ]
  },
  {
   "cell_type": "code",
   "execution_count": 4,
   "metadata": {},
   "outputs": [],
   "source": [
    "# Define the backpropagation function\n",
    "def backprop(x, y, w1, w2, w3, learning_rate):\n",
    "    # Forward pass\n",
    "    z1, a1, z2, a2, z3, a3 = forward_propagation(x, w1, w2, w3)\n",
    "    \n",
    "    # Compute the gradients of the loss with respect to the output\n",
    "    dL_da3 = (a3 - y) / y.shape[1]\n",
    "    \n",
    "    # Backward pass\n",
    "    dz3 = dL_da3\n",
    "    dw3 = np.dot(dz3, a2.T)\n",
    "    da2 = np.dot(w3.T, dz3)\n",
    "    dz2 = da2 * sigmoid_prime(z2)\n",
    "    dw2 = np.dot(dz2, a1.T)\n",
    "    da1 = np.dot(w2.T, dz2)\n",
    "    dz1 = da1 * sigmoid_prime(z1)\n",
    "    dw1 = np.dot(dz1, x.T)\n",
    "    \n",
    "    # Update the weights and biases\n",
    "    w1 -= learning_rate * dw1\n",
    "    w2 -= learning_rate * dw2\n",
    "    w3 -= learning_rate * dw3\n",
    "    \n",
    "    # Compute the loss and accuracy\n",
    "    loss = cross_entropy_loss(y, a3)\n",
    "    accuracy = compute_accuracy(y, a3)\n",
    "    \n",
    "    return w1, w2, w3, loss, accuracy"
   ]
  },
  {
   "cell_type": "code",
   "execution_count": null,
   "metadata": {},
   "outputs": [],
   "source": [
    "# Load the MNIST dataset\n",
    "(x_train, y_train), (x_test, y_test) = mnist.load_data()\n",
    "\n",
    "# Preprocess the input data\n",
    "x_train = x_train.reshape((x_train.shape[0], -1)).T / 255.0\n",
    "x_test = x_test.reshape((x_test.shape[0], -1)).T / 255.0\n",
    "\n",
    "# Convert the target output to one-hot encoding\n",
    "y_train_onehot = np.eye(10)[y_train].T\n",
    "y_test_onehot = np.eye(10)[y_test].T\n",
    "\n",
    "# Define the neural network architecture\n",
    "n_input = 784\n",
    "n_hidden1 = 300\n",
    "n_hidden2 = 200\n",
    "n_output = 10\n",
    "\n",
    "# Initialize the weights by sampling from normal distribution\n",
    "w1 = np.random.randn(n_hidden1, n_input) * np.sqrt(2/n_input)\n",
    "w2 = np.random.randn(n_hidden2, n_hidden1) * np.sqrt(2/n_hidden1)\n",
    "w3 = np.random.randn(n_output, n_hidden2) * np.sqrt(2/n_hidden2)\n",
    "\n",
    "# Set the hyperparameters\n",
    "learning_rate = 0.1\n",
    "num_epochs = 50\n",
    "batch_size = 128\n",
    "\n",
    "train_loss = []\n",
    "# Train the neural network using mini-batch gradient descent\n",
    "for epoch in range(num_epochs):\n",
    "    # Shuffle the training data\n",
    "    indices = np.random.permutation(x_train.shape[1])\n",
    "    x_train = x_train[:, indices]\n",
    "    y_train_onehot = y_train_onehot[:, indices]\n",
    "\n",
    "    # Split the training data into mini-batches\n",
    "    for i in range(0, x_train.shape[1], batch_size):\n",
    "        # Select a mini-batch of input data and corresponding target output\n",
    "        x_batch = x_train[:, i:i+batch_size]\n",
    "        y_batch = y_train_onehot[:, i:i+batch_size]\n",
    "        \n",
    "        # Perform forward pass and backpropagation to update the weights and biases\n",
    "        w1, w2, w3, loss, accuracy = backprop(x_batch, y_batch, w1, w2, w3, learning_rate)\n",
    "        \n",
    "        # Print the loss and accuracy every 10 mini-batches\n",
    "        if i % (10 * batch_size) == 0:\n",
    "            print(f\"Epoch {epoch+1}/{num_epochs}, Batch {i//batch_size+1}/{x_train.shape[1]//batch_size}, Loss: {loss:.4f}, Accuracy: {accuracy:.4f}\")\n",
    "    train_loss.append(loss)"
   ]
  },
  {
   "cell_type": "code",
   "execution_count": 6,
   "metadata": {},
   "outputs": [
    {
     "data": {
      "image/png": "[encoded data removed]",
      "text/plain": [
       "<Figure size 432x288 with 1 Axes>"
      ]
     },
     "metadata": {
      "needs_background": "light"
     },
     "output_type": "display_data"
    }
   ],
   "source": [
    "epochs = np.arange(1,num_epochs+1)\n",
    "plt.plot(epochs, train_loss, label='train loss')\n",
    "plt.legend()\n",
    "plt.title('MLP from scratch on MNIST learning curve')\n",
    "plt.xlabel('epoch')\n",
    "plt.ylabel('loss')\n",
    "plt.savefig('mlp_scratch.pdf')\n",
    "plt.show()"
   ]
  },
  {
   "cell_type": "code",
   "execution_count": 8,
   "metadata": {},
   "outputs": [
    {
     "data": {
      "text/plain": [
       "(0.033299999999999996, 0.9667)"
      ]
     },
     "execution_count": 8,
     "metadata": {},
     "output_type": "execute_result"
    }
   ],
   "source": [
    "# see how model performs on test data\n",
    "z1, a1, z2, a2, z3, a3 = forward_propagation(x_test, w1, w2, w3)\n",
    "accuracy = compute_accuracy(y_test_onehot, a3)\n",
    "error = 1 - accuracy\n",
    "error, accuracy"
   ]
  }
 ],
 "metadata": {
  "kernelspec": {
   "display_name": "Python 3.8.9 64-bit",
   "language": "python",
   "name": "python3"
  },
  "language_info": {
   "codemirror_mode": {
    "name": "ipython",
    "version": 3
   },
   "file_extension": ".py",
   "mimetype": "text/x-python",
   "name": "python",
   "nbconvert_exporter": "python",
   "pygments_lexer": "ipython3",
   "version": "3.8.9"
  },
  "orig_nbformat": 4,
  "vscode": {
   "interpreter": {
    "hash": "31f2aee4e71d21fbe5cf8b01ff0e069b9275f58929596ceb00d14d90e3e16cd6"
   }
  }
 },
 "nbformat": 4,
 "nbformat_minor": 2
}
